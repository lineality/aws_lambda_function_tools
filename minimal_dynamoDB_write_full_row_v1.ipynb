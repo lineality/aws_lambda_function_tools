{
  "nbformat": 4,
  "nbformat_minor": 0,
  "metadata": {
    "colab": {
      "name": "minimal_dynamoDB_write_full_row_v1.ipynb",
      "provenance": [],
      "collapsed_sections": []
    },
    "kernelspec": {
      "name": "python3",
      "display_name": "Python 3"
    },
    "language_info": {
      "name": "python"
    }
  },
  "cells": [
    {
      "cell_type": "code",
      "metadata": {
        "id": "MEYdMi9RHT-F"
      },
      "source": [
        "# minimal_dynamoDB_write_full_row\n",
        "\n",
        "import boto3\n",
        "\n",
        "def lambda_handler(event, context):\n",
        "\n",
        "    # connect to the \"client\"\n",
        "    dynamodb = boto3.client('dynamodb')\n",
        "\n",
        "    # already existing table in dynamoDB\n",
        "    this_table = 'sm_salary'\n",
        "\n",
        "    ###################################\n",
        "    # \"item\" object as keys and values\n",
        "    ###################################\n",
        "    \"\"\"\n",
        "    Note: content of 'item' or \"row of data\"\n",
        "    name of Field/Column \n",
        "    data type of that field\n",
        "    value of that field\n",
        "\n",
        "    The first item will be the unique key field.\n",
        "    \"\"\"\n",
        "    this_item = {'row_id': {'N': '4.0'}, \n",
        "                 'YearsExperience': {'N': '1.1'}, \n",
        "                 'Salary': {'N': '39343.0'}}\n",
        "\n",
        "    #############################################\n",
        "    # insert item into the database as a new row\n",
        "    #############################################\n",
        "    add_to_db = dynamodb.put_item(\n",
        "        \n",
        "        # put your specific table name here:\n",
        "        TableName = this_table,\n",
        "\n",
        "        # This is the 'item' or 'row' in the database / table\n",
        "        Item = this_item\n",
        "    )\n",
        "\n",
        "    #########################\n",
        "    # Finish & Return Output\n",
        "    #########################\n",
        "\n",
        "    return {\n",
        "        'statusCode': 200,\n",
        "        'body': 'data write, ok!'\n",
        "    }\n"
      ],
      "execution_count": null,
      "outputs": []
    }
  ]
}